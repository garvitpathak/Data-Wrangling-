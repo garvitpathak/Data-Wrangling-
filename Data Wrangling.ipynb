{
  "nbformat": 4,
  "nbformat_minor": 0,
  "metadata": {
    "colab": {
      "provenance": []
    },
    "kernelspec": {
      "name": "python3",
      "display_name": "Python 3"
    },
    "language_info": {
      "name": "python"
    }
  },
  "cells": [
    {
      "cell_type": "markdown",
      "source": [
        "***`Importing the libraries.`***"
      ],
      "metadata": {
        "id": "14Oe_doN2bzI"
      }
    },
    {
      "cell_type": "code",
      "execution_count": null,
      "metadata": {
        "id": "Mh16qQZu0ECk"
      },
      "outputs": [],
      "source": [
        "import csv # For reading the files\n",
        "import pandas #For creating the dataframe\n",
        "import numpy as np #For using the numpy array\n",
        "import matplotlib.pyplot as plt #For plotting the garphs \n",
        "from sklearn.model_selection import train_test_split # Seprating the dataset for test and train purpose\n",
        "from sklearn.ensemble import RandomForestRegressor # For the predictions purpose\n",
        "import sklearn.metrics as sms #For metrics \n",
        "import statsmodels.api as sm\n",
        "import math #For the purpose of calculation\n",
        "from sklearn.metrics import mean_squared_error #To find the mean squared error"
      ]
    },
    {
      "cell_type": "markdown",
      "source": [
        "***`DataFrame for 2011 and 2012 average counts across months`***"
      ],
      "metadata": {
        "id": "xoAeLWXDDYJC"
      }
    },
    {
      "cell_type": "code",
      "source": [
        "#Opening the dataset \n",
        "with open('/content/day.csv',errors='ignore') as p:\n",
        "  #Read and putting the data into dictionary\n",
        "  q=csv.DictReader(p)\n",
        "  a={}\n",
        "  #Classifying the average counts of months for 2011\n",
        "  for i in q:\n",
        "    y=i['dteday']\n",
        "    k=i['mnth']\n",
        "    p=int(i['cnt'])\n",
        "    if '2011' in y:\n",
        "      if k in a:\n",
        "        a[k]+=p\n",
        "      else:\n",
        "        a[k]=p\n",
        "with open('/content/day.csv',errors='ignore') as p:\n",
        "  #Read and putting the data into dictionary\n",
        "  q=csv.DictReader(p)\n",
        "  b={}\n",
        "  #Classifying the average counts of months for 2012\n",
        "  for i in q:\n",
        "    y=i['dteday']\n",
        "    k=i['mnth']\n",
        "    p=int(i['cnt'])\n",
        "    if '2012' in y:\n",
        "      if k in b:\n",
        "        b[k]+=p\n",
        "      else:\n",
        "        b[k]=p\n",
        "#Putting the data into dataframe for better clarifications\n",
        "df = pandas.DataFrame(list(a.items()),columns=['Months','Counts in year 2011'])\n",
        "df['Counts in year 2012']=b.values()\n",
        "df=df.reset_index(drop=True)\n",
        "print(df)"
      ],
      "metadata": {
        "id": "uak0iGhC3Gxj",
        "colab": {
          "base_uri": "https://localhost:8080/"
        },
        "outputId": "3cbe8368-6af2-4005-f247-5ba782daeb46"
      },
      "execution_count": null,
      "outputs": [
        {
          "output_type": "stream",
          "name": "stdout",
          "text": [
            "   Months  Counts in year 2011  Counts in year 2012\n",
            "0       1                38189                96744\n",
            "1       2                48215               103137\n",
            "2       3                64045               164875\n",
            "3       4                94870               174224\n",
            "4       5               135821               195865\n",
            "5       6               143512               202830\n",
            "6       7               141341               203607\n",
            "7       8               136691               214503\n",
            "8       9               127418               218573\n",
            "9      10               123511               198841\n",
            "10     11               102167               152664\n",
            "11     12                87323               123713\n"
          ]
        }
      ]
    },
    {
      "cell_type": "markdown",
      "source": [
        "***`DataFrame for 2011 and 2012 average counts across season`***"
      ],
      "metadata": {
        "id": "M3L-4S-NWTaa"
      }
    },
    {
      "cell_type": "code",
      "source": [
        "#Opening the dataset\n",
        "with open('/content/day.csv',errors='ignore') as p:\n",
        "  #Read and putting the data into dictionary\n",
        "  q=csv.DictReader(p)\n",
        "  a={}\n",
        "  #Classifying the average counts across seasons for 2011\n",
        "  for i in q:\n",
        "    y=i['dteday']\n",
        "    k=i['season']\n",
        "    p=int(i['cnt'])\n",
        "    if '2011' in y:\n",
        "      if k in a:\n",
        "        a[k]+=p\n",
        "      else:\n",
        "        a[k]=p\n",
        "#Read and putting the data into dictionary\n",
        "with open('/content/day.csv',errors='ignore') as p:\n",
        "  q=csv.DictReader(p)\n",
        "  b={}\n",
        "  #Classifying the average counts across seasons for 2012\n",
        "  for i in q:\n",
        "    y=i['dteday']\n",
        "    k=i['season']\n",
        "    p=int(i['cnt'])\n",
        "    if '2012' in y:\n",
        "      if k in b:\n",
        "        b[k]+=p\n",
        "      else:\n",
        "        b[k]=p\n",
        "#Putting the data into dataframe for better clarifications\n",
        "df = pandas.DataFrame(list(a.items()),columns=['Seasons','Counts in year 2011'])\n",
        "df['Counts in year 2012']=list(b.values())\n",
        "print(df)"
      ],
      "metadata": {
        "colab": {
          "base_uri": "https://localhost:8080/"
        },
        "id": "jRN3YKzvWdf8",
        "outputId": "ca9bb765-dced-4345-e7f1-e6bbdfb6c05e"
      },
      "execution_count": null,
      "outputs": [
        {
          "output_type": "stream",
          "name": "stdout",
          "text": [
            "  Seasons  Counts in year 2011  Counts in year 2012\n",
            "0       1               150000               321348\n",
            "1       2               347316               571273\n",
            "2       3               419650               641479\n",
            "3       4               326137               515476\n"
          ]
        }
      ]
    },
    {
      "cell_type": "markdown",
      "source": [
        "***`DataFrame that shows difference betwwen counts of months of year 2011 and 2012 with holidays`***"
      ],
      "metadata": {
        "id": "SRB9KvzBZ_sF"
      }
    },
    {
      "cell_type": "code",
      "source": [
        "#Opening the dataset\n",
        "with open('/content/day.csv',errors='ignore') as p:\n",
        "  #Read and putting the data into dictionary\n",
        "  q=csv.DictReader(p)\n",
        "  a={}\n",
        "#DataFrame that shows difference betwwen counts of months of year 2011 and 2012 with holidays\n",
        "  for i in q:\n",
        "    y=i['dteday']\n",
        "    ya=i['holiday']\n",
        "    k=i['mnth']\n",
        "    p=int(i['cnt'])\n",
        "    if ya==\"0\":\n",
        "      if '2012' in y:\n",
        "        if k in a:\n",
        "          a[k]+=p\n",
        "        else:\n",
        "          a[k]=p\n",
        "      if '2011' in y:\n",
        "        if k in a:\n",
        "          a[k]-=p\n",
        "        else:\n",
        "          a[k]=p\n",
        "#Putting the data into dataframe for better clarifications\n",
        "df = pandas.DataFrame(list(a.items()),columns=['Months','Difference betwwen Counts'])\n",
        "print(df)"
      ],
      "metadata": {
        "colab": {
          "base_uri": "https://localhost:8080/"
        },
        "id": "pxx2GyZYaarv",
        "outputId": "5c3eeab1-b505-4388-ff1a-32e0ba8ad82b"
      },
      "execution_count": null,
      "outputs": [
        {
          "output_type": "stream",
          "name": "stdout",
          "text": [
            "   Months  Difference betwwen Counts\n",
            "0       1                      57276\n",
            "1       2                      55620\n",
            "2       3                     104532\n",
            "3       4                      80564\n",
            "4       5                      64801\n",
            "5       6                      67266\n",
            "6       7                      71630\n",
            "7       8                      86344\n",
            "8       9                      98702\n",
            "9      10                      79827\n",
            "10     11                      54802\n",
            "11     12                      44148\n"
          ]
        }
      ]
    },
    {
      "cell_type": "markdown",
      "source": [
        "***`DataFrame that shows difference betwwen counts of months of year 2011 and 2012 without holidays`***"
      ],
      "metadata": {
        "id": "HpziZnEvdths"
      }
    },
    {
      "cell_type": "code",
      "source": [
        "#Opening the dataset\n",
        "with open('/content/day.csv',errors='ignore') as p:\n",
        "  #Read and putting the data into dictionary\n",
        "  q=csv.DictReader(p)\n",
        "  a={}\n",
        "#DataFrame that shows difference betwwen counts of months of year 2011 and 2012 without holidays\n",
        "  for i in q:\n",
        "    y=i['dteday']\n",
        "    ya=i['holiday']\n",
        "    k=i['mnth']\n",
        "    p=int(i['cnt'])\n",
        "    if ya==\"1\":\n",
        "      if '2012' in y:\n",
        "        if k in a:\n",
        "          a[k]+=p\n",
        "        else:\n",
        "          a[k]=p\n",
        "      if '2011' in y:\n",
        "        if k in a:\n",
        "          a[k]-=p\n",
        "        else:\n",
        "          a[k]=p\n",
        "#Putting the data into dataframe for better clarifications\n",
        "df = pandas.DataFrame(list(a.items()),columns=['Months','Difference betwwen Counts'])\n",
        "print(df)"
      ],
      "metadata": {
        "colab": {
          "base_uri": "https://localhost:8080/"
        },
        "id": "AHqu2vved0Ia",
        "outputId": "331cc6b2-1555-4a27-e417-e637b325343f"
      },
      "execution_count": null,
      "outputs": [
        {
          "output_type": "stream",
          "name": "stdout",
          "text": [
            "  Months  Difference betwwen Counts\n",
            "0      1                       5249\n",
            "1      2                       4236\n",
            "2      4                       9496\n",
            "3      5                      10141\n",
            "4      7                      13446\n",
            "5      9                       9385\n",
            "6     10                      10595\n",
            "7     11                      10567\n",
            "8     12                       2330\n"
          ]
        }
      ]
    },
    {
      "cell_type": "markdown",
      "source": [
        "***`Season for highest number of casual and registerd riders for 2011`***"
      ],
      "metadata": {
        "id": "zO3A7zpZemCs"
      }
    },
    {
      "cell_type": "code",
      "source": [
        "#Opening the dataset\n",
        "with open('/content/day.csv',errors='ignore') as p:\n",
        "    #Read and putting the data into dictionary\n",
        "  q=csv.DictReader(p)\n",
        "  a={}\n",
        "  # Season for highest number of casual riders for 2011\n",
        "  for i in q:\n",
        "    y=i['dteday']\n",
        "    k=i['season']\n",
        "    p=int(i['casual'])\n",
        "    if '2011' in y:\n",
        "      if k in a:\n",
        "        a[k]+=p\n",
        "      else:\n",
        "        a[k]=p\n",
        "#Opening the dataset\n",
        "with open('/content/day.csv',errors='ignore') as p:\n",
        "  #Read and putting the data into dictionary\n",
        "  q=csv.DictReader(p)\n",
        "  b={}\n",
        "# Season for highest number of registerd riders for 2011\n",
        "  for i in q:\n",
        "    y=i['dteday']\n",
        "    k=i['season']\n",
        "    p=int(i['registered'])\n",
        "    if '2011' in y:\n",
        "      if k in b:\n",
        "        b[k]+=p\n",
        "      else:\n",
        "        b[k]=p\n",
        "#Putting the data into dataframe for better clarifications\n",
        "df = pandas.DataFrame(list(a.items()),columns=['Seasons','Season_casual_Ride'])\n",
        "df['Season_registered_Ride']=list(b.values())\n",
        "print(df)"
      ],
      "metadata": {
        "colab": {
          "base_uri": "https://localhost:8080/"
        },
        "id": "1icDmFEIf-IT",
        "outputId": "5f7e9ac4-4b2d-4061-a917-ba6855a999b1"
      },
      "execution_count": null,
      "outputs": [
        {
          "output_type": "stream",
          "name": "stdout",
          "text": [
            "  Seasons  Season_casual_Ride  Season_registered_Ride\n",
            "0       1               21425                  128575\n",
            "1       2               77564                  269752\n",
            "2       3               95450                  324200\n",
            "3       4               52813                  273324\n"
          ]
        }
      ]
    },
    {
      "cell_type": "markdown",
      "source": [
        "*As it can be seen above that there are highest number of casual as well as registered riders in the third season in year 2011.*"
      ],
      "metadata": {
        "id": "XAZl2V69gjr7"
      }
    },
    {
      "cell_type": "markdown",
      "source": [
        "***`Season for highest number of riders for 2012`***"
      ],
      "metadata": {
        "id": "RaiqUDYmjQCv"
      }
    },
    {
      "cell_type": "code",
      "source": [
        "#Opening the dataset\n",
        "with open('/content/day.csv',errors='ignore') as p:\n",
        "    #Read and putting the data into dictionary\n",
        "  q=csv.DictReader(p)\n",
        "  a={}\n",
        "#Season for highest number of casual riders for 2012\n",
        "  for i in q:\n",
        "    y=i['dteday']\n",
        "    k=i['season']\n",
        "    p=int(i['casual'])\n",
        "    if '2012' in y:\n",
        "      if k in a:\n",
        "        a[k]+=p\n",
        "      else:\n",
        "        a[k]=p\n",
        "#Opening the dataset again\n",
        "with open('/content/day.csv',errors='ignore') as p:\n",
        "  q=csv.DictReader(p)\n",
        "  b={}\n",
        "#Season for highest number of registerd riders for 2012\n",
        "  for i in q:\n",
        "    y=i['dteday']\n",
        "    k=i['season']\n",
        "    p=int(i['registered'])\n",
        "    if '2012' in y:\n",
        "      if k in b:\n",
        "        b[k]+=p\n",
        "      else:\n",
        "        b[k]=p\n",
        "#Putting the data into dataframe for better clarifications\n",
        "df = pandas.DataFrame(list(a.items()),columns=['Seasons','Season_casual_Ride'])\n",
        "df['Season_registered_Ride']=list(b.values())\n",
        "print(df)"
      ],
      "metadata": {
        "colab": {
          "base_uri": "https://localhost:8080/"
        },
        "id": "3GbWJOT1jPVz",
        "outputId": "ce5dbd9f-cd3b-4d9d-a0e2-e586e6d480d9"
      },
      "execution_count": null,
      "outputs": [
        {
          "output_type": "stream",
          "name": "stdout",
          "text": [
            "  Seasons  Season_casual_Ride  Season_registered_Ride\n",
            "0       1               39197                  282151\n",
            "1       2              125958                  445315\n",
            "2       3              130641                  510838\n",
            "3       4               76969                  438507\n"
          ]
        }
      ]
    },
    {
      "cell_type": "markdown",
      "source": [
        "*As it is seen that in third season there are high number of casual and registered user in the year 2012.*"
      ],
      "metadata": {
        "id": "nSE8DUKujcCP"
      }
    },
    {
      "cell_type": "markdown",
      "source": [
        "***`Top 3 lowest number of month counts  user in year 2011`***"
      ],
      "metadata": {
        "id": "6YupWIY_j-g4"
      }
    },
    {
      "cell_type": "code",
      "source": [
        "#Opening the dataset\n",
        "with open('/content/day.csv',errors='ignore') as p:\n",
        "#Read and putting the data into dictionary\n",
        "  q=csv.DictReader(p)\n",
        "  a={}\n",
        "# lowest number of month counts casual users in year 2011\n",
        "  for i in q:\n",
        "    y=i['dteday']\n",
        "    k=i['mnth']\n",
        "    p=int(i['casual'])\n",
        "    if '2011' in y:\n",
        "      if k in a:\n",
        "        a[k]+=p\n",
        "      else:\n",
        "        a[k]=p\n",
        "#Opening the dataset again\n",
        "with open('/content/day.csv',errors='ignore') as p:\n",
        "  q=csv.DictReader(p)\n",
        "  b={}\n",
        "  # lowest number of month counts registered users in year 2011\n",
        "  for i in q:\n",
        "    y=i['dteday']\n",
        "    k=i['mnth']\n",
        "    p=int(i['registered'])\n",
        "    if '2011' in y:\n",
        "      if k in b:\n",
        "        b[k]+=p\n",
        "      else:\n",
        "        b[k]=p\n",
        "#Putting the data into dataframe for better clarifications\n",
        "df = pandas.DataFrame(list(a.items()),columns=['Months','Counts_casual_count_monthwise'])\n",
        "df['Counts_registered_count_monthwise']=list(b.values())\n",
        "print(df)"
      ],
      "metadata": {
        "colab": {
          "base_uri": "https://localhost:8080/"
        },
        "id": "TM8UBHB_j-Qb",
        "outputId": "1db7a86e-cf76-40ee-f645-82c59e2aa1e3"
      },
      "execution_count": null,
      "outputs": [
        {
          "output_type": "stream",
          "name": "stdout",
          "text": [
            "   Months  Counts_casual_count_monthwise  Counts_registered_count_monthwise\n",
            "0       1                           3073                              35116\n",
            "1       2                           6242                              41973\n",
            "2       3                          12826                              51219\n",
            "3       4                          22346                              72524\n",
            "4       5                          31050                             104771\n",
            "5       6                          30612                             112900\n",
            "6       7                          36452                             104889\n",
            "7       8                          28842                             107849\n",
            "8       9                          26545                             100873\n",
            "9      10                          25222                              98289\n",
            "10     11                          15594                              86573\n",
            "11     12                           8448                              78875\n"
          ]
        }
      ]
    },
    {
      "cell_type": "markdown",
      "source": [
        "*The top 3 lowest months with casual and registered user in the year 2011 are 1,2, and 12 which basically means januaray, februray and december.*"
      ],
      "metadata": {
        "id": "_4wfSTKqkmwx"
      }
    },
    {
      "cell_type": "markdown",
      "source": [
        "***`Top 3 lowest number of month counts in year 2012`***"
      ],
      "metadata": {
        "id": "K6Szfk5ElhvW"
      }
    },
    {
      "cell_type": "code",
      "source": [
        "#Opening the dataset\n",
        "with open('/content/day.csv',errors='ignore') as p:\n",
        "#Read and putting the data into dictionary\n",
        "  q=csv.DictReader(p)\n",
        "  a={}\n",
        "#lowest number of month counts for casual users in year 2012\n",
        "  for i in q:\n",
        "    y=i['dteday']\n",
        "    k=i['mnth']\n",
        "    p=int(i['casual'])\n",
        "    if '2012' in y:\n",
        "      if k in a:\n",
        "        a[k]+=p\n",
        "      else:\n",
        "        a[k]=p\n",
        "#Opening the dataset again\n",
        "with open('/content/day.csv',errors='ignore') as p:\n",
        "  q=csv.DictReader(p)\n",
        "  b={}\n",
        "#lowest number of month counts for registerd users in year 2012\n",
        "  for i in q:\n",
        "    y=i['dteday']\n",
        "    k=i['mnth']\n",
        "    p=int(i['registered'])\n",
        "    if '2012' in y:\n",
        "      if k in b:\n",
        "        b[k]+=p\n",
        "      else:\n",
        "        b[k]=p\n",
        "#Putting the data into dataframe for better clarifications\n",
        "df = pandas.DataFrame(list(a.items()),columns=['Months','Counts_casual_count_monthwise'])\n",
        "df['Counts_registered_count_monthwise']=list(b.values())\n",
        "print(df)"
      ],
      "metadata": {
        "colab": {
          "base_uri": "https://localhost:8080/"
        },
        "id": "ubwzly51lhK0",
        "outputId": "b16dd37b-db73-485a-93e2-9f9f185e44eb"
      },
      "execution_count": null,
      "outputs": [
        {
          "output_type": "stream",
          "name": "stdout",
          "text": [
            "   Months  Counts_casual_count_monthwise  Counts_registered_count_monthwise\n",
            "0       1                           8969                              87775\n",
            "1       2                           8721                              94416\n",
            "2       3                          31618                             133257\n",
            "3       4                          38456                             135768\n",
            "4       5                          44235                             151630\n",
            "5       6                          43294                             159536\n",
            "6       7                          41705                             161902\n",
            "7       8                          43197                             171306\n",
            "8       9                          43778                             174795\n",
            "9      10                          34538                             164303\n",
            "10     11                          21009                             131655\n",
            "11     12                          13245                             110468\n"
          ]
        }
      ]
    },
    {
      "cell_type": "markdown",
      "source": [
        "*The top 3 lowest months with casual and registered in the year 2012 are 1,2, and 12 which basically means januaray, februray and december.*"
      ],
      "metadata": {
        "id": "TC-FHX3_l_c9"
      }
    },
    {
      "cell_type": "markdown",
      "source": [
        "***`Plotting Yearly-wise distribution of counts.`***"
      ],
      "metadata": {
        "id": "N3ML7r6knLTY"
      }
    },
    {
      "cell_type": "code",
      "source": [
        "#Opening the dataset\n",
        "with open('/content/day.csv',errors='ignore') as p:\n",
        "  #Read and putting the data into dictionary\n",
        "  q=csv.DictReader(p)\n",
        "  a={}\n",
        "#Calculating the year wise count's distribution\n",
        "  for i in q:\n",
        "    y=i['dteday']\n",
        "    k=i['mnth']\n",
        "    p=int(i['cnt'])\n",
        "#Calculating value of year 2012\n",
        "    if '2012' in y:\n",
        "      if '2012' in a:\n",
        "        a['2012']+=p\n",
        "      else:\n",
        "        a['2012']=p\n",
        "#Calculating value of year 2011\n",
        "    if '2011' in y:\n",
        "      if '2011' in a:\n",
        "        a['2011']+=p\n",
        "      else:\n",
        "        a['2011']=p\n",
        "#Plotting the graph\n",
        "x=['2011','2012']\n",
        "y=[a['2011'],a['2012']]\n",
        "#Visualising the graoh\n",
        "plt.barh(x,y,color=['cyan','orange'])\n",
        "plt.show()"
      ],
      "metadata": {
        "colab": {
          "base_uri": "https://localhost:8080/",
          "height": 278
        },
        "id": "n_p7VehimWRZ",
        "outputId": "784fdf9d-4e06-4874-d801-f92cdfd421b9"
      },
      "execution_count": null,
      "outputs": [
        {
          "output_type": "display_data",
          "data": {
            "text/plain": [
              "<Figure size 432x288 with 1 Axes>"
            ],
            "image/png": "[encoded data removed]"
          },
          "metadata": {
            "needs_background": "light"
          }
        }
      ]
    },
    {
      "cell_type": "markdown",
      "source": [
        "*`The value of the counts is shown in the expoential power of e as it has higher values to plot on bar graph.`*"
      ],
      "metadata": {
        "id": "qnKV4ITEZuCo"
      }
    },
    {
      "cell_type": "markdown",
      "source": [
        "***`Holiday-wise distribution of counts for year 2011`***"
      ],
      "metadata": {
        "id": "hpQDuoOLadXZ"
      }
    },
    {
      "cell_type": "code",
      "source": [
        "#Opening the dataset\n",
        "with open('/content/day.csv',errors='ignore') as p:\n",
        " #Read and putting the data into dictionary\n",
        "  q=csv.DictReader(p)\n",
        "  a={}\n",
        "#Calculating the holiday-wise count's distribution for year 2011\n",
        "  for i in q:\n",
        "    y=i['dteday']\n",
        "    k=i['holiday']\n",
        "    p=int(i['cnt'])\n",
        "#selecting the value of 2011\n",
        "    if '2011' in y:\n",
        "      if k in a:\n",
        "        a[k]+=p\n",
        "      else:\n",
        "        a[k]=p\n",
        "#Putting the values in the dataframe\n",
        "df = pandas.DataFrame(list(a.items()),columns=['Holiday','Counts'])\n",
        "x=np.array(df.Holiday)\n",
        "y=np.array(df.Counts)\n",
        "#Plotting the bar graph\n",
        "plt.bar(x,y,width=0.8,color=['pink','cyan'])\n",
        "plt.show()"
      ],
      "metadata": {
        "colab": {
          "base_uri": "https://localhost:8080/",
          "height": 276
        },
        "id": "JosxUE1baPdd",
        "outputId": "1e3bef0c-e03d-4753-a610-08f7a1ff523e"
      },
      "execution_count": null,
      "outputs": [
        {
          "output_type": "display_data",
          "data": {
            "text/plain": [
              "<Figure size 432x288 with 1 Axes>"
            ],
            "image/png": "[encoded data removed]"
          },
          "metadata": {
            "needs_background": "light"
          }
        }
      ]
    },
    {
      "cell_type": "markdown",
      "source": [
        "***`Holiday-wise distribution of counts for year 2012`***"
      ],
      "metadata": {
        "id": "OjCsbg1qgWQ3"
      }
    },
    {
      "cell_type": "code",
      "source": [
        "#Opening the dataset\n",
        "with open('/content/day.csv',errors='ignore') as p:\n",
        " #Read and putting the data into dictionary\n",
        "  q=csv.DictReader(p)\n",
        "  a={}\n",
        "#Calculating the holiday-wise count's distribution for year 2012\n",
        "  for i in q:\n",
        "    y=i['dteday']\n",
        "    k=i['holiday']\n",
        "    p=int(i['cnt'])\n",
        "#selecting the value of 2012\n",
        "    if '2012' in y:\n",
        "      if k in a:\n",
        "        a[k]+=p\n",
        "      else:\n",
        "        a[k]=p\n",
        "#Putting the values in the dataframe\n",
        "df = pandas.DataFrame(list(a.items()),columns=['Holiday','Counts'])\n",
        "x=np.array(df.Holiday)\n",
        "y=np.array(df.Counts)\n",
        "#Plotting the bar graph\n",
        "plt.bar(x,y,width=0.8,color=['pink','red'])\n",
        "plt.show()"
      ],
      "metadata": {
        "colab": {
          "base_uri": "https://localhost:8080/",
          "height": 276
        },
        "id": "ZAau2XRjgTcG",
        "outputId": "047a76ce-496d-40ca-987b-04a1f056f407"
      },
      "execution_count": null,
      "outputs": [
        {
          "output_type": "display_data",
          "data": {
            "text/plain": [
              "<Figure size 432x288 with 1 Axes>"
            ],
            "image/png": "[encoded data removed]"
          },
          "metadata": {
            "needs_background": "light"
          }
        }
      ]
    },
    {
      "cell_type": "markdown",
      "source": [
        "***`Plotting the correlation between counts and other enviromental varaibles such as weather, temperature, humidity and windspeed.`***"
      ],
      "metadata": {
        "id": "Ivf8vI-Egrhf"
      }
    },
    {
      "cell_type": "code",
      "source": [
        "#Reading the file with the help of the pandas file\n",
        "data=pandas.read_csv(\"/content/day.csv\")\n",
        "#Viewing the head of the data\n",
        "print(data.head())"
      ],
      "metadata": {
        "colab": {
          "base_uri": "https://localhost:8080/"
        },
        "id": "jkh4iPu5a62L",
        "outputId": "789f6f0a-2e79-42fc-d19b-d3d030c29136"
      },
      "execution_count": null,
      "outputs": [
        {
          "output_type": "stream",
          "name": "stdout",
          "text": [
            "   instant      dteday  season  yr  mnth  holiday  weekday  workingday  \\\n",
            "0        1  2011-01-01       1   0     1        0        6           0   \n",
            "1        2  2011-01-02       1   0     1        0        0           0   \n",
            "2        3  2011-01-03       1   0     1        0        1           1   \n",
            "3        4  2011-01-04       1   0     1        0        2           1   \n",
            "4        5  2011-01-05       1   0     1        0        3           1   \n",
            "\n",
            "   weathersit      temp     atemp       hum  windspeed  casual  registered  \\\n",
            "0           2  0.344167  0.363625  0.805833   0.160446     331         654   \n",
            "1           2  0.363478  0.353739  0.696087   0.248539     131         670   \n",
            "2           1  0.196364  0.189405  0.437273   0.248309     120        1229   \n",
            "3           1  0.200000  0.212122  0.590435   0.160296     108        1454   \n",
            "4           1  0.226957  0.229270  0.436957   0.186900      82        1518   \n",
            "\n",
            "    cnt  \n",
            "0   985  \n",
            "1   801  \n",
            "2  1349  \n",
            "3  1562  \n",
            "4  1600  \n"
          ]
        }
      ]
    },
    {
      "cell_type": "markdown",
      "source": [
        "***`Finding the correlation between daily bike rentals and enviroment settings`***"
      ],
      "metadata": {
        "id": "Vml1scPv3avm"
      }
    },
    {
      "cell_type": "code",
      "source": [
        "#Selecting the enviromentv setting and the counts of daily bike rentals\n",
        "Enviromentsetting=data[['weathersit','temp','atemp','hum','windspeed','cnt']]\n",
        "# Finding the correlation with according to the counts of the dail bike renatls\n",
        "Correlation=Enviromentsetting.corr()['cnt']\n",
        "#Vieiwng the correlation value\n",
        "print(Correlation)"
      ],
      "metadata": {
        "colab": {
          "base_uri": "https://localhost:8080/"
        },
        "id": "r5c5fLrZmI81",
        "outputId": "8e92ae61-82f6-431d-f412-75caa0d3157e"
      },
      "execution_count": null,
      "outputs": [
        {
          "output_type": "stream",
          "name": "stdout",
          "text": [
            "weathersit   -0.297391\n",
            "temp          0.627494\n",
            "atemp         0.631066\n",
            "hum          -0.100659\n",
            "windspeed    -0.234545\n",
            "cnt           1.000000\n",
            "Name: cnt, dtype: float64\n"
          ]
        }
      ]
    },
    {
      "cell_type": "markdown",
      "source": [
        "*`Plotting the graph for the correaltion between the counts and other enviroment settings.`*"
      ],
      "metadata": {
        "id": "8jndAIbZpMgx"
      }
    },
    {
      "cell_type": "code",
      "source": [
        "#Plotting the graph for the correlation\n",
        "plt.barh(Correlation.index,Correlation.values,color = ['#1f77b4', '#ff7f0e', '#2ca02c', '#d62728', '#9467bd', '#e377c2'])\n",
        "#Viauslising the graph\n",
        "plt.show()"
      ],
      "metadata": {
        "colab": {
          "base_uri": "https://localhost:8080/",
          "height": 265
        },
        "id": "G7hLHOU-pMGG",
        "outputId": "250d9c3c-3b7c-4c24-fbb5-0ffa5e598e2d"
      },
      "execution_count": null,
      "outputs": [
        {
          "output_type": "display_data",
          "data": {
            "text/plain": [
              "<Figure size 432x288 with 1 Axes>"
            ],
            "image/png": "[encoded data removed]"
          },
          "metadata": {
            "needs_background": "light"
          }
        }
      ]
    },
    {
      "cell_type": "markdown",
      "source": [
        "***`For the prediction random forest regressor model is used.`***"
      ],
      "metadata": {
        "id": "_oKQisfEsiRE"
      }
    },
    {
      "cell_type": "code",
      "source": [
        "#Seprating the value of x and y\n",
        "x=data.drop(['dteday','cnt'],axis=1)\n",
        "y=data.cnt\n",
        "#Splitting the test and train part of the dataset\n",
        "X_train, X_test, y_train, y_test = train_test_split(x, y, test_size=0.25, random_state=42)\n",
        "#Applying the random forest regression model\n",
        "regressor = RandomForestRegressor(n_estimators = 100, random_state = 0)\n",
        "#Fitting the data to the model\n",
        "regressor.fit(X_train, y_train)\n",
        "#Predicting the value of the xtest \n",
        "prediction=regressor.predict(X_test)\n",
        "#Calculating the error, mse, and rmse value\n",
        "mse=sms.mean_squared_error(y_test, prediction, sample_weight=None, multioutput='uniform_average', squared=True) \n",
        "rmse=math.sqrt(mse)\n",
        "#Priting the calculated values\n",
        "print(\"The actual and predicted values a difference of::\",rmse)\n",
        "print(\"The mean square error is about:\",mse)"
      ],
      "metadata": {
        "id": "FwH0H-4nshf3",
        "colab": {
          "base_uri": "https://localhost:8080/"
        },
        "outputId": "71c7dccb-53cd-4cb4-fd5a-e5b3e10576a9"
      },
      "execution_count": null,
      "outputs": [
        {
          "output_type": "stream",
          "name": "stdout",
          "text": [
            "The actual and predicted values a difference of:: 104.14459312965832\n",
            "The mean square error is about: 10846.096278142075\n"
          ]
        }
      ]
    },
    {
      "cell_type": "markdown",
      "source": [
        "***`Libraries used:`***\n",
        "*`There are certain libraries that are used in the project the two most used libraries are csv and pandas the CSV library is used to open and separate the data which is needed because it is easier to deal with the data. CSV allows reading the data in the dictionary format and it makes it easy to manipulate the data. And the library pandas are used to create the data frame because it allows the clearing of the data and makes the data ready for visualization. The two more important library that is used are matplotlib which make the data visualized it has many graphs and plot to make the data attractive. And the other library is the machine learning library which helps to deploy the machine learning models. The library is named sklearn and the model which is being used is a random forest regressor. `*\n",
        "\n",
        "***`Process:`***\n",
        "*`The first thing is how to open the data basically there are two libraries by which the data can be used first is pandas and second is CSV. In this, there is the use of CSV which can help to manipulate the data in an easier manner. The first thing that is to be done is open the data set with the help of an open function and make a variable for the file which is taken as ‘p’ all over the code. Then after the opening, there is the necessity of reading the file with the help of the DictReader function in the CSV which opens the data in the dictionary format then with the help of this there is the separation of the required data. After selecting the counts according to the needs there is need to create the data frame with the help of the panda’s library because to create it there is only 1 library used. \n",
        "After that, there is part of the visualization of the data so for this purpose it is easy to count the data which are found year-wise and Holiday-wise for the years 2011 and 2012. After counting the visualization is done with the help of the matplotlib library. Basically, the most used graph is the bar graph which has values in the exponential power because its values are too high to plot in the graph. \n",
        "Then there is the task to calculate the correlation with counts with the help of the other environment settings such as windspeed, humidity, atmospheric temperature, temperature, and weather. After analyzing it there are two variables that are most correlated that is atmospheric temperature and temperature which is about 0.63. \n",
        "And at last, the prediction is used with the help of the random forest model selection in this machine learning model several decision trees are used to acquire the best output. The model has 104.14 as the root mean square value and 10846 as the mean squared value.`*\n",
        "\n",
        "***`Conclusion :`*** *`The sepration of the data is done by CSV library to get or fulfill the requirement and to create the dataframe the pandas libraray is used. The to visualise the matplotlibaray is used which create the bar graph. Then with the help of correlation function there is found the correlation of counts with enviroment setting. At last random forest is applied for the purpose of the prediction. `* "
      ],
      "metadata": {
        "id": "FLDFUYw-tayW"
      }
    }
  ]
}